{
  "nbformat": 4,
  "nbformat_minor": 0,
  "metadata": {
    "colab": {
      "name": "ML_Mastery_Batch_Normalization.ipynb",
      "provenance": [],
      "authorship_tag": "ABX9TyMTMTqI3nqQSYY+eGl6jStM",
      "include_colab_link": true
    },
    "kernelspec": {
      "name": "python3",
      "display_name": "Python 3"
    }
  },
  "cells": [
    {
      "cell_type": "markdown",
      "metadata": {
        "id": "view-in-github",
        "colab_type": "text"
      },
      "source": [
        "<a href=\"https://colab.research.google.com/github/EddyGiusepe/ML_Mastery_Batch_Normalization/blob/main/ML_Mastery_Batch_Normalization.ipynb\" target=\"_parent\"><img src=\"https://colab.research.google.com/assets/colab-badge.svg\" alt=\"Open In Colab\"/></a>"
      ]
    },
    {
      "cell_type": "markdown",
      "metadata": {
        "id": "71mh3ERtn6C3"
      },
      "source": [
        "# **Batch Normalization**\r\n",
        "\r\n",
        "O artigo original está [aqui](https://machinelearningmastery.com/better-deep-learning-neural-networks-crash-course/).\r\n",
        "\r\n",
        "Aqui estudaremos como acelerar o processo de treinamento de nossa rede neural de aprendizado profundo usando a Batch normalization (**normalização em lote**).\r\n",
        "\r\n",
        "A normalização em lote, ou ``batchnorm`` para abreviar, é proposta como uma técnica para ajudar a coordenar a atualização de várias camadas no modelo.\r\n",
        "\r\n",
        "Os autores do artigo que introduz a **normalização de lote** referem-se à mudança na distribuição de entradas durante o treinamento como **mudança de covariável interna** (internal covariate shift). A normalização em lote foi projetada para contrabalançar a mudança interna da covariável ao dimensionar a saída da camada anterior, especificamente padronizando as ativações de cada variável de entrada por minibatch, como as ativações de um nó (neurônio) da camada anterior.\r\n",
        "\r\n",
        "\r\n",
        "\r\n",
        "O ``Keras`` oferece suporte à normalização em lote por meio de uma ``camada BatchNormalization`` separada que pode ser adicionada entre as camadas ocultas de seu modelo. Por exemplo:\r\n",
        "\r\n",
        "**model.add(BatchNormalization())**\r\n",
        "\r\n",
        "\r\n",
        "\r\n",
        "O exemplo abaixo demonstra um ``modelo Multilayer Perceptron`` com normalização em lote em um problema de classificação binária."
      ]
    },
    {
      "cell_type": "markdown",
      "metadata": {
        "id": "HVDJ_PT4j9KB"
      },
      "source": [
        "## Importamos nossas bibliotecas"
      ]
    },
    {
      "cell_type": "code",
      "metadata": {
        "id": "mYNEEV3Enu7b"
      },
      "source": [
        "from sklearn.datasets import make_circles\r\n",
        "from keras.models import Sequential\r\n",
        "from keras.layers import Dense, Dropout\r\n",
        "from keras.optimizers import SGD\r\n",
        "from keras.layers import BatchNormalization\r\n",
        "\r\n",
        "import matplotlib.pyplot as plt\r\n",
        "%matplotlib inline"
      ],
      "execution_count": 1,
      "outputs": []
    },
    {
      "cell_type": "markdown",
      "metadata": {
        "id": "rww3LEKCkhjF"
      },
      "source": [
        "## Geramos nosso Dataset"
      ]
    },
    {
      "cell_type": "code",
      "metadata": {
        "id": "2P97vjrkkeYw"
      },
      "source": [
        "x, y = make_circles(n_samples=1000, noise=0.1, random_state=1)"
      ],
      "execution_count": 2,
      "outputs": []
    },
    {
      "cell_type": "markdown",
      "metadata": {
        "id": "u_DBw0kAk_oB"
      },
      "source": [
        "## Dividimos nossos Dados em treino e teste"
      ]
    },
    {
      "cell_type": "code",
      "metadata": {
        "id": "N7YQk1oBk-OV"
      },
      "source": [
        "n_train = 500\r\n",
        "trainx, testx = x[:n_train, :], x[n_train:, :]\r\n",
        "trainy, testy = y[:n_train], y[n_train:]"
      ],
      "execution_count": 3,
      "outputs": []
    },
    {
      "cell_type": "markdown",
      "metadata": {
        "id": "uWgJNF8_lUJl"
      },
      "source": [
        "## Construímos nosso modelo"
      ]
    },
    {
      "cell_type": "code",
      "metadata": {
        "id": "rslotlLZlR6T"
      },
      "source": [
        "model = Sequential()\r\n",
        "\r\n",
        "model.add(Dense(64, input_dim=2, activation='relu'))\r\n",
        "\r\n",
        "model.add(Dropout(0.1))\r\n",
        "\r\n",
        "model.add(Dense(16, activation = 'relu',\r\n",
        "                kernel_initializer = 'he_normal', use_bias = False))\r\n",
        "\r\n",
        "model.add(BatchNormalization())\r\n",
        "\r\n",
        "model.add(Dense(8, activation = 'relu',\r\n",
        "                kernel_initializer = 'he_normal', use_bias = False))\r\n",
        "\r\n",
        "model.add(Dropout(0.1))\r\n",
        "\r\n",
        "model.add(Dense(4, activation = 'relu'))\r\n",
        "\r\n",
        "model.add(Dense(1, activation='sigmoid'))"
      ],
      "execution_count": 4,
      "outputs": []
    },
    {
      "cell_type": "markdown",
      "metadata": {
        "id": "Z56nd-sBllXx"
      },
      "source": [
        "## Compilamos nosso modelo"
      ]
    },
    {
      "cell_type": "code",
      "metadata": {
        "id": "h0M05ydYlkqM"
      },
      "source": [
        "\r\n",
        "opt = SGD(lr=0.01, momentum=0.9)\r\n",
        "model.compile(loss='binary_crossentropy', optimizer=opt, metrics=['accuracy'])\r\n"
      ],
      "execution_count": 5,
      "outputs": []
    },
    {
      "cell_type": "markdown",
      "metadata": {
        "id": "kE0EiRgtl1VQ"
      },
      "source": [
        "## Ajustamos nosso modelo (Fit model)"
      ]
    },
    {
      "cell_type": "code",
      "metadata": {
        "id": "Cnpy61Qxl0vJ"
      },
      "source": [
        "history = model.fit(trainx, trainy, batch_size = 100, validation_data=(testx, testy),\r\n",
        "                    epochs=300, verbose=0)"
      ],
      "execution_count": 6,
      "outputs": []
    },
    {
      "cell_type": "markdown",
      "metadata": {
        "id": "38lPp6o-mMnx"
      },
      "source": [
        "## Avaliamos nosso modelo"
      ]
    },
    {
      "cell_type": "code",
      "metadata": {
        "colab": {
          "base_uri": "https://localhost:8080/"
        },
        "id": "vvhcFmsLmFPa",
        "outputId": "12d54b44-7bef-417c-fe8f-d3337601792a"
      },
      "source": [
        "_, train_acc = model.evaluate(trainx, trainy, verbose=1)\r\n",
        "_, test_acc = model.evaluate(testx, testy, verbose=1)"
      ],
      "execution_count": 7,
      "outputs": [
        {
          "output_type": "stream",
          "text": [
            "16/16 [==============================] - 0s 1ms/step - loss: 0.3599 - accuracy: 0.8380\n",
            "16/16 [==============================] - 0s 2ms/step - loss: 0.3590 - accuracy: 0.8520\n"
          ],
          "name": "stdout"
        }
      ]
    },
    {
      "cell_type": "code",
      "metadata": {
        "colab": {
          "base_uri": "https://localhost:8080/"
        },
        "id": "X5h5c8ybmXQ-",
        "outputId": "0f53ba8a-0ddc-4205-f4f7-f3adb011c4b3"
      },
      "source": [
        "print('Train: %.3f, Test: %.3f' % (train_acc, test_acc))"
      ],
      "execution_count": 8,
      "outputs": [
        {
          "output_type": "stream",
          "text": [
            "Train: 0.838, Test: 0.852\n"
          ],
          "name": "stdout"
        }
      ]
    },
    {
      "cell_type": "markdown",
      "metadata": {
        "id": "Drv09sGumglO"
      },
      "source": [
        "## Plotamos nossas curvas"
      ]
    },
    {
      "cell_type": "code",
      "metadata": {
        "colab": {
          "base_uri": "https://localhost:8080/",
          "height": 278
        },
        "id": "KcGIXa-1mc-s",
        "outputId": "7e6d8982-9bbd-4cca-d30b-f24cf4969230"
      },
      "source": [
        "# plot loss learning curves\r\n",
        "\r\n",
        "plt.title('Cross-Entropy Loss', pad=-40)\r\n",
        "plt.plot(history.history['loss'], label='train')\r\n",
        "plt.plot(history.history['val_loss'], label='test')\r\n",
        "plt.legend()\r\n",
        "plt.show()\r\n"
      ],
      "execution_count": 9,
      "outputs": [
        {
          "output_type": "display_data",
          "data": {
            "image/png": "[encoded data removed]",
            "text/plain": [
              "<Figure size 432x288 with 1 Axes>"
            ]
          },
          "metadata": {
            "tags": [],
            "needs_background": "light"
          }
        }
      ]
    },
    {
      "cell_type": "code",
      "metadata": {
        "colab": {
          "base_uri": "https://localhost:8080/",
          "height": 278
        },
        "id": "fpRhuxzImnYT",
        "outputId": "53d61c63-4c1a-40d5-8e33-a096b63ac38c"
      },
      "source": [
        "# plot accuracy learning curves\r\n",
        "\r\n",
        "plt.title('Accuracy', pad=-40)\r\n",
        "plt.plot(history.history['accuracy'], label='train')\r\n",
        "plt.plot(history.history['val_accuracy'], label='test')\r\n",
        "plt.legend()\r\n",
        "plt.show()"
      ],
      "execution_count": 10,
      "outputs": [
        {
          "output_type": "display_data",
          "data": {
            "image/png": "[encoded data removed]",
            "text/plain": [
              "<Figure size 432x288 with 1 Axes>"
            ]
          },
          "metadata": {
            "tags": [],
            "needs_background": "light"
          }
        }
      ]
    },
    {
      "cell_type": "markdown",
      "metadata": {
        "id": "x7JZW-P8nLOF"
      },
      "source": [
        "**NOTA:**\r\n",
        "Para esta lição, você deve executar o exemplo de código com e sem normalização em lote e descrever o efeito que a normalização em lote tem nas curvas de aprendizado durante o treinamento."
      ]
    },
    {
      "cell_type": "code",
      "metadata": {
        "id": "lJ2qG939nE6-"
      },
      "source": [
        ""
      ],
      "execution_count": 10,
      "outputs": []
    }
  ]
}